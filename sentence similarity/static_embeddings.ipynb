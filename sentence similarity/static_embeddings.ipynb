{
 "cells": [
  {
   "cell_type": "code",
   "execution_count": null,
   "metadata": {},
   "outputs": [],
   "source": [
    "import numpy as np\n",
    "import pandas as pd\n",
    "from gensim.models import KeyedVectors\n",
    "from nltk.tokenize import word_tokenize\n",
    "from nltk.stem import WordNetLemmatizer\n",
    "import nltk\n",
    "from datasets import load_dataset\n",
    "from tensorflow.keras.models import Model\n",
    "from tensorflow.keras.layers import Input, Dense, Dropout, BatchNormalization\n",
    "from tensorflow.keras.optimizers.legacy import Adam\n",
    "import random"
   ]
  },
  {
   "cell_type": "code",
   "execution_count": null,
   "metadata": {},
   "outputs": [],
   "source": [
    "dataset = load_dataset(\"paws\", \"labeled_final\")"
   ]
  },
  {
   "cell_type": "code",
   "execution_count": null,
   "metadata": {},
   "outputs": [],
   "source": [
    "# Path to the GloVe file\n",
    "word2vec_output_file = 'embeddings/glove.6B.100d.word2vec.txt'\n",
    "\n",
    "# Loading the model\n",
    "model = KeyedVectors.load_word2vec_format(word2vec_output_file, binary=False)\n",
    "\n",
    "nltk.download('punkt')\n",
    "nltk.download('stopwords')\n",
    "nltk.download('wordnet')"
   ]
  },
  {
   "cell_type": "code",
   "execution_count": null,
   "metadata": {},
   "outputs": [],
   "source": [
    "def preprocess(sentence):\n",
    "    tokens1 = word_tokenize(sentence.lower())\n",
    "    lemmatizer = WordNetLemmatizer()\n",
    "    tokens1 = [lemmatizer.lemmatize(token) for token in tokens1]\n",
    "    return tokens1\n",
    "\n",
    "def get_sentence_embedding(sentence):\n",
    "    embeddings = [model[word] for word in preprocess(sentence) if word in model]\n",
    "    if not embeddings:\n",
    "        return np.zeros(model.vector_size)\n",
    "    \n",
    "    averaged_vector = np.mean(embeddings, axis=0)\n",
    "    return averaged_vector\n",
    "    \n",
    "\n",
    "def create_features(data):\n",
    "    features = []\n",
    "    labels = []\n",
    "    for item in data:\n",
    "        emb1 = get_sentence_embedding(item['sentence1'])\n",
    "        emb2 = get_sentence_embedding(item['sentence2'])\n",
    "        feature = np.concatenate([emb1, emb2])\n",
    "        features.append(feature)\n",
    "        labels.append(item['label'])\n",
    "        print(item['id'])\n",
    "    return np.array(features), np.array(labels)"
   ]
  },
  {
   "cell_type": "code",
   "execution_count": null,
   "metadata": {},
   "outputs": [],
   "source": [
    "\n",
    "new_training_dataset = dataset['train'].shard(num_shards=1,index = 0)\n",
    "new_val_dataset = dataset['validation'].shard(num_shards=1,index = 0)\n",
    "new_test_dataset = dataset['test'].shard(num_shards=1,index = 0)\n",
    "\n",
    "print(new_training_dataset)\n",
    "print(new_val_dataset)\n",
    "print(new_test_dataset)\n",
    "\n",
    "train_features, train_labels = create_features(new_training_dataset)\n",
    "val_features, val_labels = create_features(new_val_dataset)\n",
    "test_features, test_labels = create_features(new_test_dataset)\n"
   ]
  },
  {
   "cell_type": "code",
   "execution_count": null,
   "metadata": {},
   "outputs": [],
   "source": [
    "# Defining the model\n",
    "def create_model(input_shape):\n",
    "    input_layer = Input(shape=input_shape)\n",
    "    \n",
    "    x = Dense(256, activation='relu')(input_layer)\n",
    "    x = BatchNormalization()(x)\n",
    "    x = Dropout(0.3)(x)\n",
    "    \n",
    "    x = Dense(128, activation='relu')(x)\n",
    "    x = BatchNormalization()(x)\n",
    "    x = Dropout(0.3)(x)\n",
    "    \n",
    "    x = Dense(64, activation='relu')(x)\n",
    "    x = BatchNormalization()(x)\n",
    "    x = Dropout(0.3)(x)\n",
    "    \n",
    "    output_layer = Dense(1, activation='sigmoid')(x)\n",
    "    \n",
    "    model = Model(inputs=input_layer, outputs=output_layer)\n",
    "    model.compile(optimizer=Adam(learning_rate=0.001), loss='binary_crossentropy', metrics=['accuracy'])\n",
    "    return model"
   ]
  },
  {
   "cell_type": "code",
   "execution_count": null,
   "metadata": {},
   "outputs": [],
   "source": [
    "model = create_model(train_features.shape[1:])\n",
    "\n",
    "# Train the model\n",
    "model.fit(train_features, train_labels, epochs=100, batch_size=32, validation_data=(val_features, val_labels))\n",
    "\n",
    "# Evaluate the model\n",
    "test_loss, test_accuracy = model.evaluate(test_features, test_labels)\n",
    "print(f'Test Accuracy: {test_accuracy}')"
   ]
  }
 ],
 "metadata": {
  "kernelspec": {
   "display_name": "precognlp",
   "language": "python",
   "name": "python3"
  },
  "language_info": {
   "codemirror_mode": {
    "name": "ipython",
    "version": 3
   },
   "file_extension": ".py",
   "mimetype": "text/x-python",
   "name": "python",
   "nbconvert_exporter": "python",
   "pygments_lexer": "ipython3",
   "version": "3.11.7"
  }
 },
 "nbformat": 4,
 "nbformat_minor": 2
}
